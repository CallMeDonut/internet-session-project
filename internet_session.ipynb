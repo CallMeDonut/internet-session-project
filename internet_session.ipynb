{
 "cells": [
  {
   "attachments": {},
   "cell_type": "markdown",
   "metadata": {},
   "source": [
    "## Questions to Answer\n",
    "- what is the most frequent internet activity time of the day ?\n",
    "- how often the ip changes ?\n",
    "- how often the device changed.\n",
    "- Does different users use the same device?"
   ]
  },
  {
   "attachments": {},
   "cell_type": "markdown",
   "metadata": {},
   "source": [
    "## Import Libraries"
   ]
  },
  {
   "cell_type": "code",
   "execution_count": 147,
   "metadata": {},
   "outputs": [],
   "source": [
    "import pandas as pd\n",
    "import numpy as np\n",
    "import seaborn as sns\n",
    "from matplotlib import pyplot as plt"
   ]
  },
  {
   "attachments": {},
   "cell_type": "markdown",
   "metadata": {},
   "source": [
    "## Load CSV"
   ]
  },
  {
   "cell_type": "code",
   "execution_count": 148,
   "metadata": {},
   "outputs": [
    {
     "data": {
      "text/html": [
       "<div>\n",
       "<style scoped>\n",
       "    .dataframe tbody tr th:only-of-type {\n",
       "        vertical-align: middle;\n",
       "    }\n",
       "\n",
       "    .dataframe tbody tr th {\n",
       "        vertical-align: top;\n",
       "    }\n",
       "\n",
       "    .dataframe thead th {\n",
       "        text-align: right;\n",
       "    }\n",
       "</style>\n",
       "<table border=\"1\" class=\"dataframe\">\n",
       "  <thead>\n",
       "    <tr style=\"text-align: right;\">\n",
       "      <th></th>\n",
       "      <th>name</th>\n",
       "      <th>start_time</th>\n",
       "      <th>usage_time</th>\n",
       "      <th>IP</th>\n",
       "      <th>MAC</th>\n",
       "      <th>upload</th>\n",
       "      <th>download</th>\n",
       "      <th>total_transfer</th>\n",
       "      <th>seession_break_reason</th>\n",
       "    </tr>\n",
       "  </thead>\n",
       "  <tbody>\n",
       "    <tr>\n",
       "      <th>0</th>\n",
       "      <td>user1</td>\n",
       "      <td>2022-05-10 02:59:32</td>\n",
       "      <td>00:00:36:28</td>\n",
       "      <td>10.55.14.222</td>\n",
       "      <td>48:E7:DA:58:22:E9</td>\n",
       "      <td>15861.76</td>\n",
       "      <td>333168.64</td>\n",
       "      <td>349030.40</td>\n",
       "      <td>Idle-Timeout</td>\n",
       "    </tr>\n",
       "    <tr>\n",
       "      <th>1</th>\n",
       "      <td>user1</td>\n",
       "      <td>2022-05-10 18:53:27</td>\n",
       "      <td>00:01:49:56</td>\n",
       "      <td>10.55.2.253</td>\n",
       "      <td>48:E7:DA:58:22:E9</td>\n",
       "      <td>16957.44</td>\n",
       "      <td>212152.32</td>\n",
       "      <td>229109.76</td>\n",
       "      <td>Idle-Timeout</td>\n",
       "    </tr>\n",
       "    <tr>\n",
       "      <th>2</th>\n",
       "      <td>user1</td>\n",
       "      <td>2022-05-10 21:20:44</td>\n",
       "      <td>00:01:35:00</td>\n",
       "      <td>10.55.2.253</td>\n",
       "      <td>48:E7:DA:58:22:E9</td>\n",
       "      <td>14080.0</td>\n",
       "      <td>195153.92</td>\n",
       "      <td>209233.92</td>\n",
       "      <td>Idle-Timeout</td>\n",
       "    </tr>\n",
       "    <tr>\n",
       "      <th>3</th>\n",
       "      <td>user1</td>\n",
       "      <td>2022-05-11 00:37:42</td>\n",
       "      <td>00:00:26:00</td>\n",
       "      <td>10.55.2.253</td>\n",
       "      <td>48:E7:DA:58:22:E9</td>\n",
       "      <td>5242.88</td>\n",
       "      <td>40806.4</td>\n",
       "      <td>46049.28</td>\n",
       "      <td>Idle-Timeout</td>\n",
       "    </tr>\n",
       "    <tr>\n",
       "      <th>4</th>\n",
       "      <td>user1</td>\n",
       "      <td>2022-05-11 02:59:38</td>\n",
       "      <td>00:00:11:52</td>\n",
       "      <td>10.55.2.253</td>\n",
       "      <td>48:E7:DA:58:22:E9</td>\n",
       "      <td>22067.2</td>\n",
       "      <td>10772.48</td>\n",
       "      <td>32839.68</td>\n",
       "      <td>Idle-Timeout</td>\n",
       "    </tr>\n",
       "    <tr>\n",
       "      <th>5</th>\n",
       "      <td>user1</td>\n",
       "      <td>2022-05-11 17:17:21</td>\n",
       "      <td>00:02:44:29</td>\n",
       "      <td>10.55.2.253</td>\n",
       "      <td>48:E7:DA:58:22:E9</td>\n",
       "      <td>39905.28</td>\n",
       "      <td>676167.68</td>\n",
       "      <td>716083.20</td>\n",
       "      <td>Idle-Timeout</td>\n",
       "    </tr>\n",
       "    <tr>\n",
       "      <th>6</th>\n",
       "      <td>user1</td>\n",
       "      <td>2022-05-11 21:27:01</td>\n",
       "      <td>00:00:51:03</td>\n",
       "      <td>10.55.2.253</td>\n",
       "      <td>48:E7:DA:58:22:E9</td>\n",
       "      <td>9472.0</td>\n",
       "      <td>166584.32</td>\n",
       "      <td>176056.32</td>\n",
       "      <td>Idle-Timeout</td>\n",
       "    </tr>\n",
       "    <tr>\n",
       "      <th>7</th>\n",
       "      <td>user1</td>\n",
       "      <td>2022-05-11 23:10:21</td>\n",
       "      <td>00:00:20:35</td>\n",
       "      <td>10.55.2.253</td>\n",
       "      <td>48:E7:DA:58:22:E9</td>\n",
       "      <td>11960.32</td>\n",
       "      <td>170977.28</td>\n",
       "      <td>182947.84</td>\n",
       "      <td>Idle-Timeout</td>\n",
       "    </tr>\n",
       "    <tr>\n",
       "      <th>8</th>\n",
       "      <td>user1</td>\n",
       "      <td>2022-05-12 00:04:25</td>\n",
       "      <td>00:00:03:12</td>\n",
       "      <td>10.55.2.253</td>\n",
       "      <td>48:E7:DA:58:22:E9</td>\n",
       "      <td>1146.88</td>\n",
       "      <td>3532.8</td>\n",
       "      <td>4679.68</td>\n",
       "      <td>Idle-Timeout</td>\n",
       "    </tr>\n",
       "    <tr>\n",
       "      <th>9</th>\n",
       "      <td>user1</td>\n",
       "      <td>2022-05-12 12:48:13</td>\n",
       "      <td>00:00:45:24</td>\n",
       "      <td>10.55.7.61</td>\n",
       "      <td>48:E7:DA:58:22:E9</td>\n",
       "      <td>12974.08</td>\n",
       "      <td>130764.8</td>\n",
       "      <td>143738.88</td>\n",
       "      <td>Idle-Timeout</td>\n",
       "    </tr>\n",
       "  </tbody>\n",
       "</table>\n",
       "</div>"
      ],
      "text/plain": [
       "    name           start_time   usage_time            IP                MAC  \\\n",
       "0  user1  2022-05-10 02:59:32  00:00:36:28  10.55.14.222  48:E7:DA:58:22:E9   \n",
       "1  user1  2022-05-10 18:53:27  00:01:49:56   10.55.2.253  48:E7:DA:58:22:E9   \n",
       "2  user1  2022-05-10 21:20:44  00:01:35:00   10.55.2.253  48:E7:DA:58:22:E9   \n",
       "3  user1  2022-05-11 00:37:42  00:00:26:00   10.55.2.253  48:E7:DA:58:22:E9   \n",
       "4  user1  2022-05-11 02:59:38  00:00:11:52   10.55.2.253  48:E7:DA:58:22:E9   \n",
       "5  user1  2022-05-11 17:17:21  00:02:44:29   10.55.2.253  48:E7:DA:58:22:E9   \n",
       "6  user1  2022-05-11 21:27:01  00:00:51:03   10.55.2.253  48:E7:DA:58:22:E9   \n",
       "7  user1  2022-05-11 23:10:21  00:00:20:35   10.55.2.253  48:E7:DA:58:22:E9   \n",
       "8  user1  2022-05-12 00:04:25  00:00:03:12   10.55.2.253  48:E7:DA:58:22:E9   \n",
       "9  user1  2022-05-12 12:48:13  00:00:45:24    10.55.7.61  48:E7:DA:58:22:E9   \n",
       "\n",
       "     upload   download  total_transfer seession_break_reason  \n",
       "0  15861.76  333168.64       349030.40          Idle-Timeout  \n",
       "1  16957.44  212152.32       229109.76          Idle-Timeout  \n",
       "2   14080.0  195153.92       209233.92          Idle-Timeout  \n",
       "3   5242.88    40806.4        46049.28          Idle-Timeout  \n",
       "4   22067.2   10772.48        32839.68          Idle-Timeout  \n",
       "5  39905.28  676167.68       716083.20          Idle-Timeout  \n",
       "6    9472.0  166584.32       176056.32          Idle-Timeout  \n",
       "7  11960.32  170977.28       182947.84          Idle-Timeout  \n",
       "8   1146.88     3532.8         4679.68          Idle-Timeout  \n",
       "9  12974.08   130764.8       143738.88          Idle-Timeout  "
      ]
     },
     "execution_count": 148,
     "metadata": {},
     "output_type": "execute_result"
    }
   ],
   "source": [
    "internet = pd.read_csv('internet_session.csv')\n",
    "internet.head(10)"
   ]
  },
  {
   "attachments": {},
   "cell_type": "markdown",
   "metadata": {},
   "source": [
    "## Exploration"
   ]
  },
  {
   "cell_type": "code",
   "execution_count": 149,
   "metadata": {},
   "outputs": [
    {
     "data": {
      "text/html": [
       "<div>\n",
       "<style scoped>\n",
       "    .dataframe tbody tr th:only-of-type {\n",
       "        vertical-align: middle;\n",
       "    }\n",
       "\n",
       "    .dataframe tbody tr th {\n",
       "        vertical-align: top;\n",
       "    }\n",
       "\n",
       "    .dataframe thead th {\n",
       "        text-align: right;\n",
       "    }\n",
       "</style>\n",
       "<table border=\"1\" class=\"dataframe\">\n",
       "  <thead>\n",
       "    <tr style=\"text-align: right;\">\n",
       "      <th></th>\n",
       "      <th>name</th>\n",
       "      <th>start_time</th>\n",
       "      <th>usage_time</th>\n",
       "      <th>IP</th>\n",
       "      <th>MAC</th>\n",
       "      <th>upload</th>\n",
       "      <th>download</th>\n",
       "      <th>total_transfer</th>\n",
       "      <th>seession_break_reason</th>\n",
       "    </tr>\n",
       "  </thead>\n",
       "  <tbody>\n",
       "    <tr>\n",
       "      <th>673</th>\n",
       "      <td>user1</td>\n",
       "      <td>2022-11-05 18:41:14</td>\n",
       "      <td>00:02:57:27</td>\n",
       "      <td>10.55.2.241</td>\n",
       "      <td>48:E7:DA:58:22:E9</td>\n",
       "      <td>303216.64</td>\n",
       "      <td>148879.36</td>\n",
       "      <td>452096.00</td>\n",
       "      <td>NaN</td>\n",
       "    </tr>\n",
       "    <tr>\n",
       "      <th>1130</th>\n",
       "      <td>user2</td>\n",
       "      <td>2022-11-05 18:22:31</td>\n",
       "      <td>00:04:11:28</td>\n",
       "      <td>10.55.14.3</td>\n",
       "      <td>CA:48:87:B2:A5:12</td>\n",
       "      <td>28149.76</td>\n",
       "      <td>547061.76</td>\n",
       "      <td>575201.28</td>\n",
       "      <td>NaN</td>\n",
       "    </tr>\n",
       "    <tr>\n",
       "      <th>1649</th>\n",
       "      <td>user3</td>\n",
       "      <td>2022-11-05 18:28:39</td>\n",
       "      <td>00:04:07:29</td>\n",
       "      <td>10.55.15.20</td>\n",
       "      <td>C8:3D:DC:CF:16:C6</td>\n",
       "      <td>33454.08</td>\n",
       "      <td>595537.92</td>\n",
       "      <td>628992.00</td>\n",
       "      <td>NaN</td>\n",
       "    </tr>\n",
       "    <tr>\n",
       "      <th>2375</th>\n",
       "      <td>user4</td>\n",
       "      <td>2022-11-05 19:23:52</td>\n",
       "      <td>00:03:05:48</td>\n",
       "      <td>10.55.13.199</td>\n",
       "      <td>D8:9C:67:BA:DC:B9</td>\n",
       "      <td>11171.84</td>\n",
       "      <td>19466.24</td>\n",
       "      <td>30638.08</td>\n",
       "      <td>NaN</td>\n",
       "    </tr>\n",
       "    <tr>\n",
       "      <th>2376</th>\n",
       "      <td>user4</td>\n",
       "      <td>2022-11-05 21:50:03</td>\n",
       "      <td>00:00:39:38</td>\n",
       "      <td>10.55.11.248</td>\n",
       "      <td>92:02:4F:EE:EB:3F</td>\n",
       "      <td>4966.4</td>\n",
       "      <td>88340.48</td>\n",
       "      <td>93296.64</td>\n",
       "      <td>NaN</td>\n",
       "    </tr>\n",
       "    <tr>\n",
       "      <th>2712</th>\n",
       "      <td>user5</td>\n",
       "      <td>2022-11-05 19:43:29</td>\n",
       "      <td>00:02:15:54</td>\n",
       "      <td>10.55.15.44</td>\n",
       "      <td>C2:BB:83:2B:FF:5A</td>\n",
       "      <td>14325.76</td>\n",
       "      <td>205967.36</td>\n",
       "      <td>220303.36</td>\n",
       "      <td>NaN</td>\n",
       "    </tr>\n",
       "    <tr>\n",
       "      <th>3913</th>\n",
       "      <td>user7</td>\n",
       "      <td>2022-11-05 19:38:07</td>\n",
       "      <td>00:02:30:43</td>\n",
       "      <td>10.55.0.215</td>\n",
       "      <td>F8:89:D2:D4:AE:8B</td>\n",
       "      <td>40919.04</td>\n",
       "      <td>1205862.4</td>\n",
       "      <td>1247805.44</td>\n",
       "      <td>NaN</td>\n",
       "    </tr>\n",
       "    <tr>\n",
       "      <th>3914</th>\n",
       "      <td>user7</td>\n",
       "      <td>2022-11-05 21:54:24</td>\n",
       "      <td>00:00:14:26</td>\n",
       "      <td>10.55.12.31</td>\n",
       "      <td>C6:2C:1D:5E:86:70</td>\n",
       "      <td>1007.5</td>\n",
       "      <td>8529.92</td>\n",
       "      <td>9543.68</td>\n",
       "      <td>NaN</td>\n",
       "    </tr>\n",
       "    <tr>\n",
       "      <th>4711</th>\n",
       "      <td>user9</td>\n",
       "      <td>2022-11-05 20:55:37</td>\n",
       "      <td>00:01:06:20</td>\n",
       "      <td>10.55.2.33</td>\n",
       "      <td>DA:2F:97:0E:B7:D0</td>\n",
       "      <td>21237.76</td>\n",
       "      <td>298536.96</td>\n",
       "      <td>319774.72</td>\n",
       "      <td>NaN</td>\n",
       "    </tr>\n",
       "  </tbody>\n",
       "</table>\n",
       "</div>"
      ],
      "text/plain": [
       "       name           start_time   usage_time            IP  \\\n",
       "673   user1  2022-11-05 18:41:14  00:02:57:27   10.55.2.241   \n",
       "1130  user2  2022-11-05 18:22:31  00:04:11:28    10.55.14.3   \n",
       "1649  user3  2022-11-05 18:28:39  00:04:07:29   10.55.15.20   \n",
       "2375  user4  2022-11-05 19:23:52  00:03:05:48  10.55.13.199   \n",
       "2376  user4  2022-11-05 21:50:03  00:00:39:38  10.55.11.248   \n",
       "2712  user5  2022-11-05 19:43:29  00:02:15:54   10.55.15.44   \n",
       "3913  user7  2022-11-05 19:38:07  00:02:30:43   10.55.0.215   \n",
       "3914  user7  2022-11-05 21:54:24  00:00:14:26   10.55.12.31   \n",
       "4711  user9  2022-11-05 20:55:37  00:01:06:20    10.55.2.33   \n",
       "\n",
       "                    MAC     upload   download  total_transfer  \\\n",
       "673   48:E7:DA:58:22:E9  303216.64  148879.36       452096.00   \n",
       "1130  CA:48:87:B2:A5:12   28149.76  547061.76       575201.28   \n",
       "1649  C8:3D:DC:CF:16:C6   33454.08  595537.92       628992.00   \n",
       "2375  D8:9C:67:BA:DC:B9   11171.84   19466.24        30638.08   \n",
       "2376  92:02:4F:EE:EB:3F     4966.4   88340.48        93296.64   \n",
       "2712  C2:BB:83:2B:FF:5A   14325.76  205967.36       220303.36   \n",
       "3913  F8:89:D2:D4:AE:8B   40919.04  1205862.4      1247805.44   \n",
       "3914  C6:2C:1D:5E:86:70     1007.5    8529.92         9543.68   \n",
       "4711  DA:2F:97:0E:B7:D0   21237.76  298536.96       319774.72   \n",
       "\n",
       "     seession_break_reason  \n",
       "673                    NaN  \n",
       "1130                   NaN  \n",
       "1649                   NaN  \n",
       "2375                   NaN  \n",
       "2376                   NaN  \n",
       "2712                   NaN  \n",
       "3913                   NaN  \n",
       "3914                   NaN  \n",
       "4711                   NaN  "
      ]
     },
     "execution_count": 149,
     "metadata": {},
     "output_type": "execute_result"
    }
   ],
   "source": [
    "## Check for null values\n",
    "nan_values = internet[internet.isna().any(axis=1)]\n",
    "nan_values"
   ]
  },
  {
   "cell_type": "code",
   "execution_count": 150,
   "metadata": {},
   "outputs": [
    {
     "data": {
      "text/plain": [
       "seession_break_reason\n",
       "Idle-Timeout    4350\n",
       "Lost-Carrier     162\n",
       "Lost-Service     124\n",
       "NAS-Reboot         2\n",
       "Other              9\n",
       "User-Request      65\n",
       "dtype: int64"
      ]
     },
     "execution_count": 150,
     "metadata": {},
     "output_type": "execute_result"
    }
   ],
   "source": [
    "## Replace null values with 'other'\n",
    "internet.fillna('Other', inplace=True)\n",
    "internet.groupby('seession_break_reason').size()"
   ]
  },
  {
   "cell_type": "code",
   "execution_count": 151,
   "metadata": {},
   "outputs": [
    {
     "name": "stdout",
     "output_type": "stream",
     "text": [
      "6\n"
     ]
    },
    {
     "data": {
      "text/plain": [
       "array(['Idle-Timeout', 'Lost-Service', 'Lost-Carrier', 'User-Request',\n",
       "       'Other', 'NAS-Reboot'], dtype=object)"
      ]
     },
     "execution_count": 151,
     "metadata": {},
     "output_type": "execute_result"
    }
   ],
   "source": [
    "## View different reasons\n",
    "print(internet.seession_break_reason.nunique())\n",
    "internet.seession_break_reason.unique()"
   ]
  },
  {
   "cell_type": "code",
   "execution_count": 152,
   "metadata": {},
   "outputs": [
    {
     "name": "stdout",
     "output_type": "stream",
     "text": [
      "9\n"
     ]
    },
    {
     "data": {
      "text/plain": [
       "array(['user1', 'user2', 'user3', 'user4', 'user5', 'user6', 'user7',\n",
       "       'user8', 'user9'], dtype=object)"
      ]
     },
     "execution_count": 152,
     "metadata": {},
     "output_type": "execute_result"
    }
   ],
   "source": [
    "## View how many users there are\n",
    "print(internet.name.nunique())\n",
    "internet.name.unique()"
   ]
  },
  {
   "cell_type": "code",
   "execution_count": 153,
   "metadata": {},
   "outputs": [
    {
     "name": "stdout",
     "output_type": "stream",
     "text": [
      "2022-05-09 22:52:41\n",
      "2022-11-05 21:54:24\n"
     ]
    }
   ],
   "source": [
    "## View the timespan of the data\n",
    "print(internet.start_time.min())\n",
    "print(internet.start_time.max())"
   ]
  },
  {
   "cell_type": "code",
   "execution_count": 154,
   "metadata": {},
   "outputs": [
    {
     "data": {
      "text/plain": [
       "name                      object\n",
       "start_time                object\n",
       "usage_time                object\n",
       "IP                        object\n",
       "MAC                       object\n",
       "upload                    object\n",
       "download                  object\n",
       "total_transfer           float64\n",
       "seession_break_reason     object\n",
       "dtype: object"
      ]
     },
     "execution_count": 154,
     "metadata": {},
     "output_type": "execute_result"
    }
   ],
   "source": [
    "## Check data types\n",
    "internet.dtypes"
   ]
  },
  {
   "attachments": {},
   "cell_type": "markdown",
   "metadata": {},
   "source": [
    "## Analysis"
   ]
  },
  {
   "attachments": {},
   "cell_type": "markdown",
   "metadata": {},
   "source": [
    "### Question 1"
   ]
  },
  {
   "cell_type": "code",
   "execution_count": 155,
   "metadata": {},
   "outputs": [
    {
     "data": {
      "text/plain": [
       "name                             object\n",
       "start_time               datetime64[ns]\n",
       "usage_time                       object\n",
       "IP                               object\n",
       "MAC                              object\n",
       "upload                           object\n",
       "download                         object\n",
       "total_transfer                  float64\n",
       "seession_break_reason            object\n",
       "dtype: object"
      ]
     },
     "execution_count": 155,
     "metadata": {},
     "output_type": "execute_result"
    }
   ],
   "source": [
    "## Convert start time column to datetime\n",
    "internet['start_time'] = pd.to_datetime(internet['start_time'])\n",
    "internet.dtypes"
   ]
  },
  {
   "cell_type": "code",
   "execution_count": 156,
   "metadata": {},
   "outputs": [
    {
     "data": {
      "text/html": [
       "<div>\n",
       "<style scoped>\n",
       "    .dataframe tbody tr th:only-of-type {\n",
       "        vertical-align: middle;\n",
       "    }\n",
       "\n",
       "    .dataframe tbody tr th {\n",
       "        vertical-align: top;\n",
       "    }\n",
       "\n",
       "    .dataframe thead th {\n",
       "        text-align: right;\n",
       "    }\n",
       "</style>\n",
       "<table border=\"1\" class=\"dataframe\">\n",
       "  <thead>\n",
       "    <tr style=\"text-align: right;\">\n",
       "      <th></th>\n",
       "      <th>start_time</th>\n",
       "      <th>name</th>\n",
       "    </tr>\n",
       "  </thead>\n",
       "  <tbody>\n",
       "    <tr>\n",
       "      <th>0</th>\n",
       "      <td>22</td>\n",
       "      <td>368</td>\n",
       "    </tr>\n",
       "    <tr>\n",
       "      <th>1</th>\n",
       "      <td>19</td>\n",
       "      <td>330</td>\n",
       "    </tr>\n",
       "    <tr>\n",
       "      <th>2</th>\n",
       "      <td>21</td>\n",
       "      <td>328</td>\n",
       "    </tr>\n",
       "    <tr>\n",
       "      <th>3</th>\n",
       "      <td>14</td>\n",
       "      <td>311</td>\n",
       "    </tr>\n",
       "    <tr>\n",
       "      <th>4</th>\n",
       "      <td>20</td>\n",
       "      <td>294</td>\n",
       "    </tr>\n",
       "  </tbody>\n",
       "</table>\n",
       "</div>"
      ],
      "text/plain": [
       "   start_time  name\n",
       "0          22   368\n",
       "1          19   330\n",
       "2          21   328\n",
       "3          14   311\n",
       "4          20   294"
      ]
     },
     "execution_count": 156,
     "metadata": {},
     "output_type": "execute_result"
    }
   ],
   "source": [
    "## Find out which hour users started to get on their device the most\n",
    "internet_time = internet.groupby(internet['start_time'].dt.hour).name\\\n",
    "    .count()\\\n",
    "    .sort_values(ascending=False)\\\n",
    "    .reset_index()\n",
    "internet_time.head()"
   ]
  },
  {
   "cell_type": "code",
   "execution_count": 157,
   "metadata": {},
   "outputs": [
    {
     "data": {
      "image/png": "[encoded data removed]",
      "text/plain": [
       "<Figure size 900x400 with 1 Axes>"
      ]
     },
     "metadata": {},
     "output_type": "display_data"
    },
    {
     "data": {
      "text/plain": [
       "<Figure size 640x480 with 0 Axes>"
      ]
     },
     "metadata": {},
     "output_type": "display_data"
    }
   ],
   "source": [
    "## Graph above information\n",
    "plt.figure(figsize=(9,4))\n",
    "sns.barplot(x=internet_time.start_time, y=internet_time.name, color='c')\n",
    "plt.xlabel('Hour')\n",
    "plt.ylabel('Number of Times Started')\n",
    "plt.title('Start of Internet Activity By Hour')\n",
    "plt.show()\n",
    "plt.clf()"
   ]
  },
  {
   "attachments": {},
   "cell_type": "markdown",
   "metadata": {},
   "source": [
    "### Question 2"
   ]
  },
  {
   "cell_type": "code",
   "execution_count": 158,
   "metadata": {},
   "outputs": [
    {
     "data": {
      "text/html": [
       "<div>\n",
       "<style scoped>\n",
       "    .dataframe tbody tr th:only-of-type {\n",
       "        vertical-align: middle;\n",
       "    }\n",
       "\n",
       "    .dataframe tbody tr th {\n",
       "        vertical-align: top;\n",
       "    }\n",
       "\n",
       "    .dataframe thead th {\n",
       "        text-align: right;\n",
       "    }\n",
       "</style>\n",
       "<table border=\"1\" class=\"dataframe\">\n",
       "  <thead>\n",
       "    <tr style=\"text-align: right;\">\n",
       "      <th></th>\n",
       "      <th>name</th>\n",
       "      <th>start_time</th>\n",
       "      <th>IP</th>\n",
       "    </tr>\n",
       "  </thead>\n",
       "  <tbody>\n",
       "    <tr>\n",
       "      <th>0</th>\n",
       "      <td>user1</td>\n",
       "      <td>2022-05-10 02:59:32</td>\n",
       "      <td>10.55.14.222</td>\n",
       "    </tr>\n",
       "    <tr>\n",
       "      <th>1</th>\n",
       "      <td>user1</td>\n",
       "      <td>2022-05-10 18:53:27</td>\n",
       "      <td>10.55.2.253</td>\n",
       "    </tr>\n",
       "    <tr>\n",
       "      <th>2</th>\n",
       "      <td>user1</td>\n",
       "      <td>2022-05-10 21:20:44</td>\n",
       "      <td>10.55.2.253</td>\n",
       "    </tr>\n",
       "    <tr>\n",
       "      <th>3</th>\n",
       "      <td>user1</td>\n",
       "      <td>2022-05-11 00:37:42</td>\n",
       "      <td>10.55.2.253</td>\n",
       "    </tr>\n",
       "    <tr>\n",
       "      <th>4</th>\n",
       "      <td>user1</td>\n",
       "      <td>2022-05-11 02:59:38</td>\n",
       "      <td>10.55.2.253</td>\n",
       "    </tr>\n",
       "  </tbody>\n",
       "</table>\n",
       "</div>"
      ],
      "text/plain": [
       "    name          start_time            IP\n",
       "0  user1 2022-05-10 02:59:32  10.55.14.222\n",
       "1  user1 2022-05-10 18:53:27   10.55.2.253\n",
       "2  user1 2022-05-10 21:20:44   10.55.2.253\n",
       "3  user1 2022-05-11 00:37:42   10.55.2.253\n",
       "4  user1 2022-05-11 02:59:38   10.55.2.253"
      ]
     },
     "execution_count": 158,
     "metadata": {},
     "output_type": "execute_result"
    }
   ],
   "source": [
    "## Get a table showing the ip for each user\n",
    "ip = internet[['name', 'start_time', 'IP']]\n",
    "ip.head()"
   ]
  },
  {
   "cell_type": "code",
   "execution_count": 159,
   "metadata": {},
   "outputs": [
    {
     "data": {
      "text/plain": [
       "array(['user1', 'user2', 'user3', 'user4', 'user5', 'user6', 'user7',\n",
       "       'user8', 'user9'], dtype=object)"
      ]
     },
     "execution_count": 159,
     "metadata": {},
     "output_type": "execute_result"
    }
   ],
   "source": [
    "## Get list of all users\n",
    "users = internet.name.unique()\n",
    "users"
   ]
  },
  {
   "cell_type": "code",
   "execution_count": 160,
   "metadata": {},
   "outputs": [],
   "source": [
    "## Create function that will be able to return how many times either IP or MAC changed depending on input\n",
    "def monthly_change(username, column):\n",
    "    user_change = internet[internet.name == username]\n",
    "    mask = (user_change['start_time'] >= '2022-5-10') & (user_change['start_time'] <= '2022-6-10')\n",
    "    user_change = user_change.loc[mask].reset_index()\n",
    "    num_changed = 0\n",
    "    for i in range(0, len(user_change[column])):\n",
    "        yesterday= None\n",
    "        if i >= 1:\n",
    "            yesterday = user_change[column].loc[i - 1]\n",
    "        else:\n",
    "            yesterday = user_change[column].loc[0]\n",
    "        if user_change[column].loc[i] != yesterday:\n",
    "            num_changed += 1\n",
    "        elif user_change[column].loc[i] == yesterday:\n",
    "            None\n",
    "        else:\n",
    "            None\n",
    "    return num_changed"
   ]
  },
  {
   "cell_type": "code",
   "execution_count": 161,
   "metadata": {},
   "outputs": [
    {
     "name": "stdout",
     "output_type": "stream",
     "text": [
      "user1: 32\n",
      "user2: 73\n",
      "user3: 57\n",
      "user4: 61\n",
      "user5: 56\n",
      "user6: 32\n",
      "user7: 52\n",
      "user8: 47\n",
      "user9: 63\n"
     ]
    }
   ],
   "source": [
    "## Show how many times the ip changed in a month for each user\n",
    "for user in users:\n",
    "    print(user + ': ' + str(monthly_change(user, 'IP')))"
   ]
  },
  {
   "cell_type": "code",
   "execution_count": 162,
   "metadata": {},
   "outputs": [
    {
     "data": {
      "text/plain": [
       "-0.36575407316384495"
      ]
     },
     "execution_count": 162,
     "metadata": {},
     "output_type": "execute_result"
    }
   ],
   "source": [
    "## Check if data is normally distributed\n",
    "from scipy.stats import skew\n",
    "list_of_ip_changes = []\n",
    "for user in users:\n",
    "    list_of_ip_changes.append(monthly_change(user, 'IP'))\n",
    "skew(list_of_ip_changes, axis=0, bias=True)\n",
    "## Normally distributed so can use mean"
   ]
  },
  {
   "cell_type": "code",
   "execution_count": 163,
   "metadata": {},
   "outputs": [
    {
     "name": "stdout",
     "output_type": "stream",
     "text": [
      "Avg IP Changes: 53\n"
     ]
    }
   ],
   "source": [
    "## Calculate the average ip changes across all users in a month\n",
    "total_ip_changes = 0\n",
    "for user in users:\n",
    "    total_ip_changes += monthly_change(user, 'IP')\n",
    "print('Avg IP Changes: ' + str(round(total_ip_changes / len(users))))"
   ]
  },
  {
   "cell_type": "code",
   "execution_count": 164,
   "metadata": {},
   "outputs": [],
   "source": [
    "## Turn into dataframe\n",
    "ip_changes_df = pd.DataFrame(data=list_of_ip_changes, index=users)\n",
    "ip_changes_df.reset_index(level=0, inplace=True)\n",
    "ip_changes_df.columns = ['user', 'ip_changes']\n",
    "\n",
    "ip_changes_df.sort_values('ip_changes', ascending=False, inplace=True)"
   ]
  },
  {
   "cell_type": "code",
   "execution_count": 165,
   "metadata": {},
   "outputs": [
    {
     "data": {
      "image/png": "[encoded data removed]",
      "text/plain": [
       "<Figure size 640x480 with 1 Axes>"
      ]
     },
     "metadata": {},
     "output_type": "display_data"
    },
    {
     "data": {
      "text/plain": [
       "<Figure size 640x480 with 0 Axes>"
      ]
     },
     "metadata": {},
     "output_type": "display_data"
    }
   ],
   "source": [
    "## Visualize data above\n",
    "sns.barplot(x=ip_changes_df.ip_changes, y=ip_changes_df.user, color='c')\n",
    "plt.xlabel('IP Changes')\n",
    "plt.ylabel('User')\n",
    "plt.title('Total Device Changes In One Month')\n",
    "plt.show()\n",
    "plt.clf()"
   ]
  },
  {
   "attachments": {},
   "cell_type": "markdown",
   "metadata": {},
   "source": [
    "### Question 3"
   ]
  },
  {
   "cell_type": "code",
   "execution_count": 166,
   "metadata": {},
   "outputs": [
    {
     "name": "stdout",
     "output_type": "stream",
     "text": [
      "user1: 10\n",
      "user2: 45\n",
      "user3: 18\n",
      "user4: 48\n",
      "user5: 44\n",
      "user6: 10\n",
      "user7: 39\n",
      "user8: 12\n",
      "user9: 2\n"
     ]
    }
   ],
   "source": [
    "## Show how many times each user changed devices over 1 month\n",
    "for user in users:\n",
    "    print(user + ': ' + str(monthly_change(user, 'MAC')))"
   ]
  },
  {
   "cell_type": "code",
   "execution_count": 167,
   "metadata": {},
   "outputs": [
    {
     "data": {
      "text/plain": [
       "0.12161661531160989"
      ]
     },
     "execution_count": 167,
     "metadata": {},
     "output_type": "execute_result"
    }
   ],
   "source": [
    "## Check to see if the data is normally distributed\n",
    "list_of_mac_changes = []\n",
    "for user in users:\n",
    "    list_of_mac_changes.append(monthly_change(user, 'MAC'))\n",
    "skew(list_of_mac_changes, axis=0, bias=True)\n",
    "## Is normally distributed so can use mean"
   ]
  },
  {
   "cell_type": "code",
   "execution_count": 168,
   "metadata": {},
   "outputs": [
    {
     "name": "stdout",
     "output_type": "stream",
     "text": [
      "Avg Device Changes: 25\n"
     ]
    }
   ],
   "source": [
    "## Calculate the average amount of times devices were changed between all users\n",
    "total_device_changes = 0\n",
    "for user in users:\n",
    "    total_device_changes += monthly_change(user, 'MAC')\n",
    "print('Avg Device Changes: ' + str(round(total_device_changes / len(users))))"
   ]
  },
  {
   "cell_type": "code",
   "execution_count": 169,
   "metadata": {},
   "outputs": [],
   "source": [
    "## Turn into dataframe\n",
    "changes_df = pd.DataFrame(data=list_of_mac_changes, index=users)\n",
    "changes_df.reset_index(level=0, inplace=True)\n",
    "changes_df.columns = ['user', 'changes']\n",
    "\n",
    "changes_df.sort_values('changes', ascending=False, inplace=True)\n"
   ]
  },
  {
   "cell_type": "code",
   "execution_count": 170,
   "metadata": {},
   "outputs": [
    {
     "data": {
      "image/png": "[encoded data removed]",
      "text/plain": [
       "<Figure size 640x480 with 1 Axes>"
      ]
     },
     "metadata": {},
     "output_type": "display_data"
    },
    {
     "data": {
      "text/plain": [
       "<Figure size 640x480 with 0 Axes>"
      ]
     },
     "metadata": {},
     "output_type": "display_data"
    }
   ],
   "source": [
    "## Visualize above data\n",
    "sns.barplot(data=changes_df, y=changes_df.user, x=changes_df.changes, color='c')\n",
    "plt.ylabel('User')\n",
    "plt.xlabel('Changes')\n",
    "plt.title('Total User Device Changes In One Month')\n",
    "plt.show()\n",
    "plt.clf()"
   ]
  },
  {
   "attachments": {},
   "cell_type": "markdown",
   "metadata": {},
   "source": [
    "### Question 4"
   ]
  },
  {
   "cell_type": "code",
   "execution_count": 171,
   "metadata": {},
   "outputs": [
    {
     "data": {
      "text/html": [
       "<div>\n",
       "<style scoped>\n",
       "    .dataframe tbody tr th:only-of-type {\n",
       "        vertical-align: middle;\n",
       "    }\n",
       "\n",
       "    .dataframe tbody tr th {\n",
       "        vertical-align: top;\n",
       "    }\n",
       "\n",
       "    .dataframe thead th {\n",
       "        text-align: right;\n",
       "    }\n",
       "</style>\n",
       "<table border=\"1\" class=\"dataframe\">\n",
       "  <thead>\n",
       "    <tr style=\"text-align: right;\">\n",
       "      <th></th>\n",
       "      <th>MAC</th>\n",
       "      <th>name</th>\n",
       "    </tr>\n",
       "  </thead>\n",
       "  <tbody>\n",
       "    <tr>\n",
       "      <th>0</th>\n",
       "      <td>0C:F3:46:71:E2:27</td>\n",
       "      <td>2</td>\n",
       "    </tr>\n",
       "    <tr>\n",
       "      <th>20</th>\n",
       "      <td>C2:BB:83:2B:FF:5A</td>\n",
       "      <td>2</td>\n",
       "    </tr>\n",
       "    <tr>\n",
       "      <th>4</th>\n",
       "      <td>48:E7:DA:58:22:E9</td>\n",
       "      <td>2</td>\n",
       "    </tr>\n",
       "    <tr>\n",
       "      <th>28</th>\n",
       "      <td>E8:6F:38:A4:F8:2F</td>\n",
       "      <td>2</td>\n",
       "    </tr>\n",
       "    <tr>\n",
       "      <th>7</th>\n",
       "      <td>7C:10:C9:AD:6E:E6</td>\n",
       "      <td>2</td>\n",
       "    </tr>\n",
       "    <tr>\n",
       "      <th>18</th>\n",
       "      <td>B6:99:3E:1D:FB:19</td>\n",
       "      <td>2</td>\n",
       "    </tr>\n",
       "    <tr>\n",
       "      <th>10</th>\n",
       "      <td>90:32:4B:3B:10:DB</td>\n",
       "      <td>2</td>\n",
       "    </tr>\n",
       "    <tr>\n",
       "      <th>24</th>\n",
       "      <td>D8:9C:67:BA:DC:B9</td>\n",
       "      <td>1</td>\n",
       "    </tr>\n",
       "    <tr>\n",
       "      <th>21</th>\n",
       "      <td>C6:2C:1D:5E:86:70</td>\n",
       "      <td>1</td>\n",
       "    </tr>\n",
       "    <tr>\n",
       "      <th>22</th>\n",
       "      <td>C8:3D:DC:CF:16:C6</td>\n",
       "      <td>1</td>\n",
       "    </tr>\n",
       "  </tbody>\n",
       "</table>\n",
       "</div>"
      ],
      "text/plain": [
       "                  MAC  name\n",
       "0   0C:F3:46:71:E2:27     2\n",
       "20  C2:BB:83:2B:FF:5A     2\n",
       "4   48:E7:DA:58:22:E9     2\n",
       "28  E8:6F:38:A4:F8:2F     2\n",
       "7   7C:10:C9:AD:6E:E6     2\n",
       "18  B6:99:3E:1D:FB:19     2\n",
       "10  90:32:4B:3B:10:DB     2\n",
       "24  D8:9C:67:BA:DC:B9     1\n",
       "21  C6:2C:1D:5E:86:70     1\n",
       "22  C8:3D:DC:CF:16:C6     1"
      ]
     },
     "execution_count": 171,
     "metadata": {},
     "output_type": "execute_result"
    }
   ],
   "source": [
    "## Number of users on each device\n",
    "user_devices = internet[['MAC', 'name']].drop_duplicates()\n",
    "\n",
    "user_devices_count = user_devices.groupby('MAC')\\\n",
    "    .count()\\\n",
    "    .reset_index()\\\n",
    "    .sort_values('name', ascending=False).head(10)\n",
    "user_devices_count"
   ]
  },
  {
   "cell_type": "code",
   "execution_count": 172,
   "metadata": {},
   "outputs": [
    {
     "name": "stdout",
     "output_type": "stream",
     "text": [
      "['0C:F3:46:71:E2:27', 'C2:BB:83:2B:FF:5A', '48:E7:DA:58:22:E9', 'E8:6F:38:A4:F8:2F', '7C:10:C9:AD:6E:E6', 'B6:99:3E:1D:FB:19', '90:32:4B:3B:10:DB']\n"
     ]
    }
   ],
   "source": [
    "## Get List of devices with multiple users\n",
    "devices = user_devices_count['MAC'][user_devices_count.name == 2].to_list()\n",
    "print(devices)"
   ]
  },
  {
   "cell_type": "code",
   "execution_count": 173,
   "metadata": {},
   "outputs": [
    {
     "name": "stdout",
     "output_type": "stream",
     "text": [
      "[['user1', 'user6'], ['user5', 'user9'], ['user1', 'user6'], ['user5', 'user9'], ['user1', 'user6'], ['user1', 'user6'], ['user1', 'user6']]\n"
     ]
    }
   ],
   "source": [
    "## Get a list of users who share the same device\n",
    "shared_users = []\n",
    "for id in devices:\n",
    "    shared_users.append(user_devices['name'][user_devices['MAC'] == id].to_list())\n",
    "print(shared_users)"
   ]
  },
  {
   "cell_type": "code",
   "execution_count": 174,
   "metadata": {},
   "outputs": [
    {
     "data": {
      "text/plain": [
       "[['user1', 'user6'], ['user5', 'user9']]"
      ]
     },
     "execution_count": 174,
     "metadata": {},
     "output_type": "execute_result"
    }
   ],
   "source": [
    "## Clean duplicates\n",
    "shared_users_clean = []\n",
    "for lst in shared_users:\n",
    "    if lst not in shared_users_clean:\n",
    "        shared_users_clean.append(lst)\n",
    "shared_users_clean"
   ]
  },
  {
   "attachments": {},
   "cell_type": "markdown",
   "metadata": {},
   "source": [
    "## Conclusion"
   ]
  },
  {
   "attachments": {},
   "cell_type": "markdown",
   "metadata": {},
   "source": [
    "- what is the most frequent internet activity time of the day ?\n",
    "    -  The most frequent internet activity time of the day begins at 10 pm.\n",
    "        - Further analysis shows that the lowest internet activity time ranges from 2-8 am. A possible cause of this could be a majority of users in this dataset are normally asleep at those hours.\n",
    "#\n",
    "- how often the ip changes ?\n",
    "    - IP addresses are changed on average 53 times a month, with the changes being as low as 32 and high as 73 between these 9 users.\n",
    "#\n",
    "- how often the device changes?\n",
    "    - Devices are changed on average 25 times a month with it being as high as 48 changes by one user (user4), to as low as only 2 changes by a user (user9)\n",
    "#\n",
    "- Do different users use the same device?\n",
    "    - User 1 shares devices with user 6, and user 5 shares with user 9."
   ]
  }
 ],
 "metadata": {
  "kernelspec": {
   "display_name": "minimal_ds",
   "language": "python",
   "name": "python3"
  },
  "language_info": {
   "codemirror_mode": {
    "name": "ipython",
    "version": 3
   },
   "file_extension": ".py",
   "mimetype": "text/x-python",
   "name": "python",
   "nbconvert_exporter": "python",
   "pygments_lexer": "ipython3",
   "version": "3.9.13 | packaged by conda-forge | (main, May 27 2022, 16:50:36) [MSC v.1929 64 bit (AMD64)]"
  },
  "orig_nbformat": 4,
  "vscode": {
   "interpreter": {
    "hash": "84ebe858f28fed396fd85dd7bbea480e1e506a49abd4d71bf4c7dc787fb54ab4"
   }
  }
 },
 "nbformat": 4,
 "nbformat_minor": 2
}
